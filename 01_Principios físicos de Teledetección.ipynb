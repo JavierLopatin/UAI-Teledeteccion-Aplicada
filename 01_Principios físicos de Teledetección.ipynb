{
 "cells": [
  {
   "attachments": {},
   "cell_type": "markdown",
   "metadata": {},
   "source": [
    "<div style=\"position: relative; min-height: 100px;\">\n",
    "  <img src=\"figuras/UAI_EO_logo2_purple.png\" alt=\"alt text\" title=\"Image Title\" style=\"position: absolute; top: 0; right: 0; max-width: 300px; width: auto; height: auto;\">\n",
    "</div>\n",
    "\n",
    "## Introducción a la teledetección ambiental\n",
    "\n",
    "prof. Javier Lopatin | javier.lopatin@uai.cl\n",
    "\n"
   ]
  },
  {
   "attachments": {},
   "cell_type": "markdown",
   "metadata": {},
   "source": [
    "### Teledetección, o Percepción Remota:\n",
    "\n",
    "- **Definición 1**. La <span style=\"color:red\">**adquisición de información sobre un objeto a distancia**</span>, esto es, <span style=\"color:blue\">**sin que exista contacto**</span> material entre el objeto o sistema observado y el observador (visión humana, sonar...).\n",
    "\n",
    "- **Definición 2** (más restrictiva). La teledetección electromagnética es la disciplina científica que reagrupa el conjunto de conocimientos y técnicas utilizadas para la  <span style=\"color:red\">**observación, análisis, interpretación y gestión del medio ambiente a partir de**</span> <span style=\"color:blue\">**demedidas e imágenes obtenidas con ayuda de plataformas aerotransportadas, espaciales, terrestres o marítimas.**</span>\n"
   ]
  },
  {
   "attachments": {},
   "cell_type": "markdown",
   "metadata": {},
   "source": [
    "<img src=\"figuras/interaccionUsuario.png\" alt=\"drawing\" width=\"800\"/>"
   ]
  },
  {
   "cell_type": "markdown",
   "metadata": {},
   "source": []
  }
 ],
 "metadata": {
  "kernelspec": {
   "display_name": "base",
   "language": "python",
   "name": "python3"
  },
  "language_info": {
   "name": "python",
   "version": "3.10.4"
  },
  "orig_nbformat": 4,
  "vscode": {
   "interpreter": {
    "hash": "ad96ca6dad53e28697ac9aed69aca59b747d1fa0ce9978e6eee1be8abb42aa6a"
   }
  }
 },
 "nbformat": 4,
 "nbformat_minor": 2
}
