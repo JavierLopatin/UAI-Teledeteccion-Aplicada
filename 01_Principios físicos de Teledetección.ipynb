{
 "cells": [
  {
   "attachments": {},
   "cell_type": "markdown",
   "metadata": {},
   "source": [
    "<table style=\"border-collapse: collapse; border: none;\">\n",
    "  <tr>\n",
    "    <td style=\"border: none; text-align: left; vertical-align: top;\">\n",
    "    </td>\n",
    "    <td style=\"border: none; text-align: right; vertical-align: top;\">\n",
    "      <img src=\"https://github.com/JavierLopatin/UAI-Teledeteccion-Aplicada/blob/1d201ef57b2ecf6c93e802f3fbe62666f51be51f/figuras/UAI_EO_logo2_purple.png?raw=true\" alt=\"alt text\" title=\"Image Title\" width=\"300\"/>\n",
    "    </td>\n",
    "  </tr>\n",
    "</table>\n",
    "\n",
    "\n",
    "## Introducción a la teledetección ambiental\n",
    "\n",
    "prof. Javier Lopatin | javier.lopatin@uai.cl\n",
    "\n"
   ]
  },
  {
   "attachments": {},
   "cell_type": "markdown",
   "metadata": {},
   "source": [
    "### Teledetección, o Percepción Remota:\n",
    "\n",
    "- **Definición 1**. La <span style=\"color:red\">**adquisición de información sobre un objeto a distancia**</span>, esto es, <span style=\"color:blue\">**sin que exista contacto**</span> material entre el objeto o sistema observado y el observador (visión humana, sonar...).\n",
    "\n",
    "- **Definición 2** (más restrictiva). La teledetección electromagnética es la disciplina científica que reagrupa el conjunto de conocimientos y técnicas utilizadas para la  <span style=\"color:red\">**observación, análisis, interpretación y gestión del medio ambiente a partir de**</span> <span style=\"color:blue\">**demedidas e imágenes obtenidas con ayuda de plataformas aerotransportadas, espaciales, terrestres o marítimas.**</span>\n"
   ]
  },
  {
   "attachments": {},
   "cell_type": "markdown",
   "metadata": {},
   "source": [
    "<img src=\"https://github.com/JavierLopatin/UAI-Teledeteccion-Aplicada/blob/5a7965668cd02269d10ac270dad114b75be7f2bf/figuras/interaccionUsuario.png?raw=true\" alt=\"Image\" width=\"800\"/>"
   ]
  },
  {
   "attachments": {},
   "cell_type": "markdown",
   "metadata": {},
   "source": [
    "### Tipos de datos espaciales\n",
    "\n",
    "Hay dos grandes tipos de datos espaciales:\n",
    "\n",
    "- **Vectores**: Están compuestos por <span style=\"color:blue\">puntos, líneas, o polígonos</span>.  Estructuralmente, se compone por vértices y pasos. \n",
    "\n",
    "- **Raster**: Son <span style=\"color:blue\">imágenes compuestas por píxeles</span> (también denominados celdas de la cuadrícula). Suelen estar espaciados regularmente y ser cuadrados (llamados pixeles), pero no tienen porqué serlo. Los rasters suelen tener un aspecto pixelado porque cada píxel tiene su propio valor o clase.\n",
    "\n",
    "<img src=\"https://github.com/JavierLopatin/UAI-Teledeteccion-Aplicada/blob/5a7965668cd02269d10ac270dad114b75be7f2bf/figuras/vectorRaster.png?raw=True\" alt=\"drawing\" width=\"800\"/>\n"
   ]
  },
  {
   "attachments": {},
   "cell_type": "markdown",
   "metadata": {},
   "source": [
    "### Imagen digital\n",
    "\n",
    "<span style=\"color:blue\">**Cada píxel tiene asignado un nivel digital (ND)**</span> . Los ND pueden contener valores de una medida de la luz reflejada, como es el caso de las imágenes  del satélite Landsat TM o Sentinel-2, pueden pertenecer al espectro visible o tener una longitud de onda distinta, como en el caso de las imágenes infrarrojas. Los ND también podrían ser una medida de la radiación emitida por un isótopo radiactivo, o representar el ultrasonido reflejado por un objeto.\n",
    "\n",
    "Los ND podrían ser una medida física de la elevación sobre el nivel del mar, la distancia en metros a un punto definido, del costo asociado de atravesar un píxel, o de cualquier variable biofísica que pueda ser medida sistemáticamente sobre un espacio bidimensional. \n"
   ]
  },
  {
   "cell_type": "markdown",
   "metadata": {},
   "source": []
  }
 ],
 "metadata": {
  "kernelspec": {
   "display_name": "base",
   "language": "python",
   "name": "python3"
  },
  "language_info": {
   "name": "python",
   "version": "3.10.4"
  },
  "orig_nbformat": 4,
  "vscode": {
   "interpreter": {
    "hash": "ad96ca6dad53e28697ac9aed69aca59b747d1fa0ce9978e6eee1be8abb42aa6a"
   }
  }
 },
 "nbformat": 4,
 "nbformat_minor": 2
}
