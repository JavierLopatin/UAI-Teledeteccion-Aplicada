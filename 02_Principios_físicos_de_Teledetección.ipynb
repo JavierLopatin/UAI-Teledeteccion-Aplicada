{
  "cells": [
    {
      "cell_type": "markdown",
      "metadata": {
        "id": "QAJ5laG-TH3U"
      },
      "source": [
        "<table style=\"border-collapse: collapse; border: none;\">\n",
        "  <tr>\n",
        "    <td style=\"border: none; text-align: left; vertical-align: top;\">\n",
        "    </td>\n",
        "    <td style=\"border: none; text-align: right; vertical-align: top;\">\n",
        "      <img src=\"https://github.com/JavierLopatin/UAI-Teledeteccion-Aplicada/blob/1d201ef57b2ecf6c93e802f3fbe62666f51be51f/figuras/UAI_EO_logo2_purple.png?raw=true\" alt=\"alt text\" title=\"Image Title\" width=\"300\"/>\n",
        "    </td>\n",
        "  </tr>\n",
        "</table>\n",
        "\n",
        "\n",
        "# Pricipios físicos de Teledetección\n",
        "\n",
        "prof. Javier Lopatin | javier.lopatin@uai.cl\n",
        "\n"
      ]
    },
    {
      "cell_type": "markdown",
      "source": [
        "<img src=\"https://github.com/JavierLopatin/UAI-Teledeteccion-Aplicada/blob/84221827a63ecc95e767befe2126060e5e9c78d1/figuras/elementos.png?raw=true\" alt=\"Image\" width=\"1000\"/>"
      ],
      "metadata": {
        "id": "PCAxhlrUTVOP"
      }
    },
    {
      "cell_type": "markdown",
      "source": [
        "<img src=\"https://github.com/JavierLopatin/UAI-Teledeteccion-Aplicada/blob/84221827a63ecc95e767befe2126060e5e9c78d1/figuras/adquirirInfo.png?raw=true\" alt=\"Image\" width=\"1200\"/>"
      ],
      "metadata": {
        "id": "vvE8epwBTVRG"
      }
    },
    {
      "cell_type": "markdown",
      "source": [
        "## Onda electromagnética\n",
        "\n",
        "<img src=\"https://github.com/JavierLopatin/UAI-Teledeteccion-Aplicada/blob/712a1e1b2b6495d4912bfeba7361af6a4377e6ba/figuras/ondaElectromagnetica.png?raw=true\" alt=\"Image\" width=\"1200\"/>\n",
        "\n"
      ],
      "metadata": {
        "id": "8lYLgyhFTVUA"
      }
    },
    {
      "cell_type": "markdown",
      "source": [
        "## Luz\n",
        "\n",
        "<img src=\"https://github.com/JavierLopatin/UAI-Teledeteccion-Aplicada/blob/be642dff4da88a40cc127656b5fe46816dd3b014/figuras/luz.png?raw=true\" alt=\"Image\" width=\"1200\"/>\n",
        "\n",
        "\n"
      ],
      "metadata": {
        "id": "_gCwUjXjTVW5"
      }
    },
    {
      "cell_type": "markdown",
      "source": [
        "## Espéctro electromágnetico\n",
        "\n",
        "<img src=\"https://github.com/JavierLopatin/UAI-Teledeteccion-Aplicada/blob/712a1e1b2b6495d4912bfeba7361af6a4377e6ba/figuras/espectroElectro2.png?raw=true\" alt=\"Image\" width=\"1200\"/>\n",
        "\n",
        "\n",
        "<img src=\"https://github.com/JavierLopatin/UAI-Teledeteccion-Aplicada/blob/be642dff4da88a40cc127656b5fe46816dd3b014/figuras/espectroTabla.png?raw=true\" alt=\"Image\" width=\"1200\"/>\n",
        "\n",
        "\n",
        "<img src=\"https://github.com/JavierLopatin/UAI-Teledeteccion-Aplicada/blob/be642dff4da88a40cc127656b5fe46816dd3b014/figuras/espectroZonas.png?raw=tru\" alt=\"Image\" width=\"1200\"/>\n",
        "\n",
        "\n",
        "\n",
        "\n"
      ],
      "metadata": {
        "id": "6xU-7_lLTVZ0"
      }
    },
    {
      "cell_type": "markdown",
      "source": [
        "## Magnitudes utilizadas en Teledetección\n",
        "\n",
        "<img src=\"https://github.com/JavierLopatin/UAI-Teledeteccion-Aplicada/blob/3d7adf926c94fd8b96e141b590b58634f5b4deb8/figuras/magnitudes.png?raw=tru\" alt=\"Image\" width=\"1200\"/>\n",
        "\n",
        "\n",
        "<img src=\"https://github.com/JavierLopatin/UAI-Teledeteccion-Aplicada/blob/3d7adf926c94fd8b96e141b590b58634f5b4deb8/figuras/magnitudes2.png?raw=tru\" alt=\"Image\" width=\"1200\"/>\n"
      ],
      "metadata": {
        "id": "Qcu8XwUkTVcs"
      }
    },
    {
      "cell_type": "markdown",
      "source": [
        "## Principios de radiación electromagnética\n",
        "\n",
        "<img src=\"https://github.com/JavierLopatin/UAI-Teledeteccion-Aplicada/blob/15e0b3389b22f8d8dc134b6c5cce5a40e6b5f50c/figuras/plank.png?raw=tru\" alt=\"Image\" width=\"1200\"/>\n",
        "\n",
        "<img src=\"https://github.com/JavierLopatin/UAI-Teledeteccion-Aplicada/blob/15e0b3389b22f8d8dc134b6c5cce5a40e6b5f50c/figuras/irradiancia.png?raw=tru\" alt=\"Image\" width=\"1200\"/>\n",
        "\n",
        "<img src=\"https://github.com/JavierLopatin/UAI-Teledeteccion-Aplicada/blob/15e0b3389b22f8d8dc134b6c5cce5a40e6b5f50c/figuras/emisivividad.png?raw=tru\" alt=\"Image\" width=\"700\"/>\n"
      ],
      "metadata": {
        "id": "E8aHzxLyTVfp"
      }
    },
    {
      "cell_type": "markdown",
      "source": [
        "## Firmas espectrales\n",
        "\n",
        "\n",
        "<img src=\"https://github.com/JavierLopatin/UAI-Teledeteccion-Aplicada/blob/15e0b3389b22f8d8dc134b6c5cce5a40e6b5f50c/figuras/firmasEspectrales.png?raw=tru\" alt=\"Image\" width=\"1000\"/>\n"
      ],
      "metadata": {
        "id": "Y9KPNkx6TVid"
      }
    },
    {
      "cell_type": "markdown",
      "source": [
        "## Tipos de comportamiento reflectivo\n",
        "\n",
        "<img src=\"https://github.com/JavierLopatin/UAI-Teledeteccion-Aplicada/blob/096313b9d39ea6d69b14a71e5f6cf9e2f29e579a/figuras/comportamientoReflectivo1.png?raw=true\" alt=\"Image\" width=\"1000\"/>\n",
        "\n",
        "<img src=\"https://github.com/JavierLopatin/UAI-Teledeteccion-Aplicada/blob/096313b9d39ea6d69b14a71e5f6cf9e2f29e579a/figuras/comportamientoReflectivo2.png?raw=true\" alt=\"Image\" width=\"1000\"/>\n",
        "\n"
      ],
      "metadata": {
        "id": "3PwQQBpjcLQc"
      }
    },
    {
      "cell_type": "markdown",
      "source": [
        "## Interacción con la atmósfera\n",
        "\n",
        "La radiación se dispersa (scattering) por la atmósfera en diferentes λ\n",
        "\n",
        "\n",
        "<img src=\"https://github.com/JavierLopatin/UAI-Teledeteccion-Aplicada/blob/926f2d60d29a09dc161b4b62810d7307a6e07f11/figuras/atmos1.png?raw=true\" alt=\"Image\" width=\"1000\"/>\n",
        "\n",
        "\n",
        "<img src=\"https://github.com/JavierLopatin/UAI-Teledeteccion-Aplicada/blob/926f2d60d29a09dc161b4b62810d7307a6e07f11/figuras/atmos2.png?raw=true\" alt=\"Image\" width=\"1000\"/>\n",
        "\n",
        "\n",
        "<img src=\"https://github.com/JavierLopatin/UAI-Teledeteccion-Aplicada/blob/926f2d60d29a09dc161b4b62810d7307a6e07f11/figuras/atmos3.png?raw=true\" alt=\"Image\" width=\"1000\"/>\n",
        "\n",
        "<img src=\"https://github.com/JavierLopatin/UAI-Teledeteccion-Aplicada/blob/80289acb7f39eaaee7eb70fb18c9d1362f47304a/figuras/atmos4.png?raw=true\" alt=\"Image\" width=\"800\"/>"
      ],
      "metadata": {
        "id": "haBEQ0mNcoVH"
      }
    },
    {
      "cell_type": "markdown",
      "source": [
        "## Interacción con la atmósfera\n",
        "\n",
        "<img src=\"https://github.com/JavierLopatin/UAI-Teledeteccion-Aplicada/blob/fdb6a0ff2e4b4709df493bca2e0d7bcd7b1ce9fb/figuras/ruidioAtmos1.png?raw=true\" alt=\"Image\" width=\"800\"/>\n",
        "\n",
        "<img src=\"https://github.com/JavierLopatin/UAI-Teledeteccion-Aplicada/blob/fdb6a0ff2e4b4709df493bca2e0d7bcd7b1ce9fb/figuras/ruidioAtmos2.png?raw=true\" alt=\"Image\" width=\"800\"/>\n",
        "\n",
        "<img src=\"https://github.com/JavierLopatin/UAI-Teledeteccion-Aplicada/blob/fdb6a0ff2e4b4709df493bca2e0d7bcd7b1ce9fb/figuras/ruidioAtmos3.png?raw=true\" alt=\"Image\" width=\"800\"/>"
      ],
      "metadata": {
        "id": "Upn5Db4de0jn"
      }
    },
    {
      "cell_type": "markdown",
      "source": [
        "## Correcciones atmósfericas\n",
        "\n",
        "<img src=\"https://github.com/JavierLopatin/UAI-Teledeteccion-Aplicada/blob/fdb6a0ff2e4b4709df493bca2e0d7bcd7b1ce9fb/figuras/correcAtmos1.png?raw=true\" alt=\"Image\" width=\"800\"/>\n",
        "\n",
        "<img src=\"https://github.com/JavierLopatin/UAI-Teledeteccion-Aplicada/blob/67fe708defe941eef7f095614cfb3e874553f9fe/figuras/correcAtmos2.png?raw=true\" alt=\"Image\" width=\"1000\"/>"
      ],
      "metadata": {
        "id": "XM3jYeZ9e1E6"
      }
    },
    {
      "cell_type": "markdown",
      "source": [
        "## Comportamiento de la vegetación en el óptico\n",
        "\n",
        "<img src=\"https://github.com/JavierLopatin/UAI-Teledeteccion-Aplicada/blob/cb3530da980d97138550f951b9dea89d795550f1/figuras/vegetacion1.png?raw=true\" alt=\"Image\" width=\"1000\"/>\n",
        "\n",
        "<img src=\"https://github.com/JavierLopatin/UAI-Teledeteccion-Aplicada/blob/cb3530da980d97138550f951b9dea89d795550f1/figuras/vegetacion2.png?raw=true\" alt=\"Image\" width=\"600\"/>\n",
        "\n",
        "<img src=\"https://github.com/JavierLopatin/UAI-Teledeteccion-Aplicada/blob/cb3530da980d97138550f951b9dea89d795550f1/figuras/vegetacion3.png?raw=true\" alt=\"Image\" width=\"800\"/>\n",
        "\n",
        "<img src=\"https://github.com/JavierLopatin/UAI-Teledeteccion-Aplicada/blob/cb3530da980d97138550f951b9dea89d795550f1/figuras/vegetacion4.png?raw=true\" alt=\"Image\" width=\"800\"/>"
      ],
      "metadata": {
        "id": "aaWsguTYe1Hu"
      }
    },
    {
      "cell_type": "markdown",
      "source": [
        "## Comportamiento del suelo en el óptico\n",
        "\n",
        "<img src=\"https://github.com/JavierLopatin/UAI-Teledeteccion-Aplicada/blob/695a6ab16191524e1aeb9208d619cc8cc6c27017/figuras/suelo1.png?raw=true\" alt=\"Image\" width=\"800\"/>"
      ],
      "metadata": {
        "id": "HTMZELpOgkkw"
      }
    },
    {
      "cell_type": "markdown",
      "source": [
        "## Comportamiento del agua en el óptico\n",
        "\n",
        "<img src=\"https://github.com/JavierLopatin/UAI-Teledeteccion-Aplicada/blob/695a6ab16191524e1aeb9208d619cc8cc6c27017/figuras/agua2.png?raw=true\" alt=\"Image\" width=\"800\"/>"
      ],
      "metadata": {
        "id": "feH53S9EgkqL"
      }
    },
    {
      "cell_type": "markdown",
      "source": [
        "## Compostamiento espectral de minerales en el óptico\n",
        "\n",
        "<img src=\"https://github.com/JavierLopatin/UAI-Teledeteccion-Aplicada/blob/695a6ab16191524e1aeb9208d619cc8cc6c27017/figuras/agua1.png?raw=true\" alt=\"Image\" width=\"800\"/>\n"
      ],
      "metadata": {
        "id": "ZOPt1n0ziWAG"
      }
    },
    {
      "cell_type": "code",
      "source": [],
      "metadata": {
        "id": "ovF3zjGGgqbu"
      },
      "execution_count": null,
      "outputs": []
    }
  ],
  "metadata": {
    "kernelspec": {
      "display_name": "base",
      "language": "python",
      "name": "python3"
    },
    "language_info": {
      "name": "python",
      "version": "3.10.4"
    },
    "orig_nbformat": 4,
    "vscode": {
      "interpreter": {
        "hash": "ad96ca6dad53e28697ac9aed69aca59b747d1fa0ce9978e6eee1be8abb42aa6a"
      }
    },
    "colab": {
      "provenance": [],
      "toc_visible": true
    }
  },
  "nbformat": 4,
  "nbformat_minor": 0
}