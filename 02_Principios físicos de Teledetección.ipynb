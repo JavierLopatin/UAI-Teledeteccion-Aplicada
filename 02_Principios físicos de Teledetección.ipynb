{
 "cells": [
  {
   "cell_type": "code",
   "execution_count": null,
   "metadata": {},
   "outputs": [],
   "source": [
    "%%capture\n",
    "# Installations\n",
    "!apt install gdal-bin python-gdal python3-gdal \n",
    "!pip install xarray rasterio rioxarray"
   ]
  },
  {
   "attachments": {},
   "cell_type": "markdown",
   "metadata": {},
   "source": [
    "<table style=\"border-collapse: collapse; border: none;\">\n",
    "  <tr>\n",
    "    <td style=\"border: none; text-align: left; vertical-align: top;\">\n",
    "    </td>\n",
    "    <td style=\"border: none; text-align: right; vertical-align: top;\">\n",
    "      <img src=\"https://github.com/JavierLopatin/UAI-Teledeteccion-Aplicada/blob/1d201ef57b2ecf6c93e802f3fbe62666f51be51f/figuras/UAI_EO_logo2_purple.png?raw=true\" alt=\"alt text\" title=\"Image Title\" width=\"300\"/>\n",
    "    </td>\n",
    "  </tr>\n",
    "</table>\n",
    "\n",
    "\n",
    "## Pricipios físicos de Teledetección\n",
    "\n",
    "prof. Javier Lopatin | javier.lopatin@uai.cl\n",
    "\n"
   ]
  }
 ],
 "metadata": {
  "kernelspec": {
   "display_name": "base",
   "language": "python",
   "name": "python3"
  },
  "language_info": {
   "name": "python",
   "version": "3.10.4"
  },
  "orig_nbformat": 4,
  "vscode": {
   "interpreter": {
    "hash": "ad96ca6dad53e28697ac9aed69aca59b747d1fa0ce9978e6eee1be8abb42aa6a"
   }
  }
 },
 "nbformat": 4,
 "nbformat_minor": 2
}
